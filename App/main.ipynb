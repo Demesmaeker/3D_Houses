{
 "cells": [
  {
   "cell_type": "markdown",
   "metadata": {},
   "source": [
    "# From the address to the 3D"
   ]
  },
  {
   "cell_type": "code",
   "execution_count": 1,
   "metadata": {},
   "outputs": [],
   "source": [
    "import numpy as np\n",
    "import pandas as pd\n",
    "import geopandas as gpd\n",
    "import matplotlib.pyplot as plt\n",
    "\n",
    "import geopy as gp\n",
    "import folium\n",
    "\n",
    "import fiona\n",
    "\n",
    "from shapely.geometry import Point, Polygon\n",
    "\n",
    "import rasterio as rio\n",
    "from rasterio.plot import show\n",
    "from rasterio.windows import Window\n",
    "\n",
    "import earthpy as et\n",
    "import earthpy.spatial as es\n",
    "import earthpy.plot as ep\n",
    "\n",
    "import open3d as o3d"
   ]
  },
  {
   "cell_type": "code",
   "execution_count": 2,
   "metadata": {},
   "outputs": [],
   "source": [
    "from functions import *\n",
    "from raster2xyz import raster2xyz"
   ]
  },
  {
   "cell_type": "markdown",
   "metadata": {},
   "source": [
    "## Enter an address, get a location"
   ]
  },
  {
   "cell_type": "code",
   "execution_count": 3,
   "metadata": {},
   "outputs": [
    {
     "name": "stdout",
     "output_type": "stream",
     "text": [
      "Please, enter an address in Begium:\n",
      "Bois du cazier\n",
      "Latitude = 4.444325200000001, Longitude = 50.3811776, Postcode = 6001\n"
     ]
    }
   ],
   "source": [
    "# Google API\n",
    "\n",
    "country_code = -1\n",
    "\n",
    "while country_code != 'BE':\n",
    "    address = input(\"Please, enter an address in Begium:\\n\")\n",
    "\n",
    "    locator = gp.geocoders.GoogleV3(api_key='')\n",
    "    location = locator.geocode(address, timeout=10)\n",
    "\n",
    "    postcode = int(location.raw['address_components'][-1]['long_name'])\n",
    "    country_code = location.raw['address_components'][-2]['short_name']\n",
    "    coord = (location.latitude, location.longitude)\n",
    "\n",
    "print(\"Latitude = {}, Longitude = {}, Postcode = {}\".format(coord[1], coord[0], postcode))"
   ]
  },
  {
   "cell_type": "markdown",
   "metadata": {},
   "source": [
    "#### OpenStreet Map (gratuit, moins efficace)\n",
    "\n",
    "country_code = -1\n",
    "\n",
    "while country_code != 'be':\n",
    "    address = input(\"Please, enter an address in Begium:\\n\")\n",
    "\n",
    "    locator = gp.Nominatim(user_agent=\"myGeocoder\")\n",
    "    location = locator.geocode(address, addressdetails=True)\n",
    "    \n",
    "    postcode = int(location.raw['address']['postcode'])\n",
    "    country_code = location.raw['address']['country_code']\n",
    "    coord = (location.latitude, location.longitude)\n",
    "\n",
    "print(\"Latitude = {}, Longitude = {}, Postcode = {}\".format(coord[0], coord[1], postcode))"
   ]
  },
  {
   "cell_type": "code",
   "execution_count": 4,
   "metadata": {},
   "outputs": [
    {
     "data": {
      "text/html": [
       "<div style=\"width:100%;\"><div style=\"position:relative;width:100%;height:0;padding-bottom:60%;\"><span style=\"color:#565656\">Make this Notebook Trusted to load map: File -> Trust Notebook</span><iframe src=\"about:blank\" style=\"position:absolute;width:100%;height:100%;left:0;top:0;border:none !important;\" data-html=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 onload=\"this.contentDocument.open();this.contentDocument.write(atob(this.getAttribute('data-html')));this.contentDocument.close();\" allowfullscreen webkitallowfullscreen mozallowfullscreen></iframe></div></div>"
      ],
      "text/plain": [
       "<folium.folium.Map at 0x7f36118aa700>"
      ]
     },
     "execution_count": 4,
     "metadata": {},
     "output_type": "execute_result"
    }
   ],
   "source": [
    "mappy = folium.Map(\n",
    "    location=[coord[0],coord[1]],\n",
    "    zoom_start=17\n",
    ")\n",
    "\n",
    "folium.CircleMarker(\n",
    "    location=[coord[0],coord[1]],\n",
    "    radius=30,\n",
    "    popup='Your address',\n",
    "    color='#3186cc',\n",
    "    fill=True,\n",
    "    fill_color='#3186cc'\n",
    ").add_to(mappy)\n",
    "\n",
    "mappy"
   ]
  },
  {
   "cell_type": "markdown",
   "metadata": {},
   "source": [
    "## From coordinates to correct crs"
   ]
  },
  {
   "cell_type": "code",
   "execution_count": 5,
   "metadata": {},
   "outputs": [
    {
     "name": "stdout",
     "output_type": "stream",
     "text": [
      "POINT (155375.4713449882 118920.0424418319)\n"
     ]
    }
   ],
   "source": [
    "p = gpd.GeoSeries([Point(coord[1], coord[0])])\n",
    "p.crs = 'epsg:4326'\n",
    "p = p.to_crs(epsg=31370)\n",
    "print(p[0])\n",
    "\n",
    "x = p[0].x\n",
    "y = p[0].y"
   ]
  },
  {
   "cell_type": "markdown",
   "metadata": {},
   "source": [
    "## Get Polygons of houses and terrain coordinates"
   ]
  },
  {
   "cell_type": "code",
   "execution_count": 6,
   "metadata": {},
   "outputs": [],
   "source": [
    "properties_src = fiona.open(\"/home/demes/Documents/Ressources/Cadastre/Bpn_CaPa_WAL.shp\", \"r\")"
   ]
  },
  {
   "cell_type": "code",
   "execution_count": null,
   "metadata": {},
   "outputs": [],
   "source": [
    "shape_property = []\n",
    "property_area = 0\n",
    "for elem in properties_src :\n",
    "    if Polygon(elem[\"geometry\"]['coordinates'][0]).contains(p[0]):\n",
    "        shape_property = [elem[\"geometry\"]]\n",
    "        property_area = elem['properties']['Shape_area']\n",
    "        break"
   ]
  },
  {
   "cell_type": "code",
   "execution_count": null,
   "metadata": {},
   "outputs": [],
   "source": [
    "print(f\"Area = {property_area} \\nShape = {shape_property}\")"
   ]
  },
  {
   "cell_type": "markdown",
   "metadata": {},
   "source": [
    "buildings_src = fiona.open(\"/home/demes/Documents/Ressources/Cadastre/Bpn_CaBu.shp\", \"r\")"
   ]
  },
  {
   "cell_type": "markdown",
   "metadata": {},
   "source": [
    "shape_buildings = [(elem[\"geometry\"], elem['properties']['Shape_area']) \n",
    "                   for elem in buildings_src \n",
    "                   if Polygon(shape_property[0]['coordinates'][0]).contains(\n",
    "                       Point(elem[\"geometry\"]['coordinates'][0][0]))]"
   ]
  },
  {
   "cell_type": "markdown",
   "metadata": {},
   "source": [
    "for building in shape_buildings :\n",
    "    print(f\"Area = {building[1]} \\nShape = {building[0]}\")"
   ]
  },
  {
   "cell_type": "markdown",
   "metadata": {},
   "source": [
    "## Get the corrects LiDAR files' path"
   ]
  },
  {
   "cell_type": "code",
   "execution_count": null,
   "metadata": {},
   "outputs": [],
   "source": [
    "path_dsm = \"\"\n",
    "path_dtm = \"\"\n",
    "flanders = False\n",
    "\n",
    "if postcode >= 1300 and postcode < 1500:\n",
    "    path_dsm = set_path_dsm('BRABANT_WALLON')\n",
    "    path_dtm = set_path_dtm('BRABANT_WALLON')\n",
    "    print('Walloon Brabant')\n",
    "    \n",
    "elif postcode >= 4000 and postcode < 5000:\n",
    "    path_dsm = set_path_dsm('LIEGE')\n",
    "    path_dtm = set_path_dtm('LIEGE')\n",
    "    print('Liège')\n",
    "    \n",
    "elif postcode >= 5000 and postcode < 6000:\n",
    "    path_dsm = set_path_dsm('NAMUR')\n",
    "    path_dtm = set_path_dtm('NAMUR')\n",
    "    print('Namur')\n",
    "    \n",
    "elif (postcode >= 6000 and postcode < 6600) or (postcode >= 7000 and postcode < 8000):\n",
    "    path_dsm = set_path_dsm('HAINAUT')\n",
    "    path_dtm = set_path_dtm('HAINAUT')\n",
    "    print('Hainaut')\n",
    "    \n",
    "elif postcode >= 6600 and postcode < 7000:\n",
    "    path_dsm = set_path_dsm('LUXEMBOURG')\n",
    "    path_dtm = set_path_dtm('LUXEMBOURG')\n",
    "    print('Luxembourg')\n",
    "    \n",
    "else:\n",
    "    number = [x for x in range(1, 44)]\n",
    "    # ouvrir le .shp avc fiona et chercher le point (A FAIRE)\n",
    "    for i in number :\n",
    "        path_dsm = f'/home/demes/Documents/Resources/Flandre/DSM/DHMVIIDSMRAS1m_k{i:02}/GeoTIFF/DHMVIIDSMRAS1m_k{i:02}.tif'\n",
    "        with rio.open(path_dsm) as dsm:\n",
    "            #coordinates = (\n",
    "             #   (x+100, y+100), (x-100, y-100)\n",
    "            #)\n",
    "            coordinates = (\n",
    "                (p[0].x, p[0].y),\n",
    "            )\n",
    "            for i, (lon, lat) in enumerate(coordinates):\n",
    "                # Get pixel coordinates from map coordinates\n",
    "                print(lon, lat)\n",
    "                py, px = dsm.index(lon, lat)\n",
    "                print('Pixel Y, X coords: {}, {}'.format(py, px))\n",
    "\n",
    "                # Build an NxN window\n",
    "                small_dsm = dsm.read(1, window=Window(px - N//2, py - N//2, N, N), masked=True)\n",
    "    flanders = True\n",
    "    print('Brussels or Flanders region')"
   ]
  },
  {
   "cell_type": "markdown",
   "metadata": {},
   "source": [
    "## Get a sample of the LiDARs, center on the coordinates"
   ]
  },
  {
   "cell_type": "markdown",
   "metadata": {},
   "source": [
    "[Highlight on \"no value's data\"](https://github.com/Demesmaeker/3D_Houses/blob/main/App/highlight_on_no_values_data.ipynb)"
   ]
  },
  {
   "cell_type": "markdown",
   "metadata": {},
   "source": [
    "##### DSM"
   ]
  },
  {
   "cell_type": "code",
   "execution_count": null,
   "metadata": {},
   "outputs": [],
   "source": [
    "coordinates = (\n",
    "    (p[0].x, p[0].y),\n",
    ")\n",
    "\n",
    "# Window's size\n",
    "N = 300\n",
    "\n",
    "print(path_dsm)\n",
    "\n",
    "with rio.open(path_dsm) as dsm:\n",
    "    for i, (lon, lat) in enumerate(coordinates):\n",
    "        # Get pixel coordinates from map coordinates\n",
    "        py, px = dsm.index(lon, lat)\n",
    "        print('Pixel Y, X coords: {}, {}'.format(py, px))\n",
    "        \n",
    "        # Build an NxN window\n",
    "        small_dsm = dsm.read(1, window=Window(px - N//2, py - N//2, N, N), masked=True)\n",
    "        dsm_meta = dsm.profile\n",
    "\n",
    "plt.figure(figsize=(10, 8))\n",
    "plt.imshow(small_dsm)\n",
    "plt.colorbar()\n",
    "plt.show()"
   ]
  },
  {
   "cell_type": "markdown",
   "metadata": {},
   "source": [
    "##### DTM"
   ]
  },
  {
   "cell_type": "code",
   "execution_count": null,
   "metadata": {},
   "outputs": [],
   "source": [
    "with rio.open(path_dtm) as dtm:\n",
    "    for i, (lon, lat) in enumerate(coordinates):\n",
    "        # Get pixel coordinates from map coordinates\n",
    "        py, px = dtm.index(lon, lat)\n",
    "        print('Pixel Y, X coords: {}, {}'.format(py, px))\n",
    "        \n",
    "        # Build an NxN window\n",
    "        small_dtm = dtm.read(1, window=Window(px - N//2, py - N//2, N, N), masked=True)\n",
    "        dtm_meta = dtm.profile\n",
    "\n",
    "plt.figure(figsize=(10, 8))\n",
    "plt.imshow(small_dtm)\n",
    "plt.colorbar()\n",
    "plt.show()"
   ]
  },
  {
   "cell_type": "markdown",
   "metadata": {},
   "source": [
    "## Canopy Height Model"
   ]
  },
  {
   "cell_type": "markdown",
   "metadata": {},
   "source": [
    "[Highlight on Canopy Height Model and Hillshade](https://github.com/Demesmaeker/3D_Houses/blob/main/App/Highlight%20on%20the%20Canopy%20Height%20Model%20and%20Hillshade.ipynb)"
   ]
  },
  {
   "cell_type": "markdown",
   "metadata": {},
   "source": [
    "## Transform raster into xyz dataframes"
   ]
  },
  {
   "cell_type": "code",
   "execution_count": null,
   "metadata": {},
   "outputs": [],
   "source": [
    "shape = [{'type': 'Polygon', \n",
    "          'coordinates': [[(x+75, y+75), \n",
    "                           (x-75, y+75), \n",
    "                           (x-75, y-75), \n",
    "                           (x+75, y-75)]]}]"
   ]
  },
  {
   "cell_type": "code",
   "execution_count": null,
   "metadata": {},
   "outputs": [],
   "source": [
    "# shape_property"
   ]
  },
  {
   "cell_type": "markdown",
   "metadata": {},
   "source": [
    "buildings = []\n",
    "for building in shape_buildings :\n",
    "    buildings += building[0]"
   ]
  },
  {
   "cell_type": "markdown",
   "metadata": {},
   "source": [
    "Get the xyz coordinates of the points"
   ]
  },
  {
   "cell_type": "code",
   "execution_count": null,
   "metadata": {},
   "outputs": [],
   "source": [
    "base_dsm = raster2xyz.translate_from_cropped(get_mask(path_dsm, shape))\n",
    "base_dtm = raster2xyz.translate_from_cropped(get_mask(path_dtm, shape))\n",
    "property_dsm = raster2xyz.translate_from_cropped(get_mask(path_dsm, shape_property))\n",
    "property_dtm = raster2xyz.translate_from_cropped(get_mask(path_dtm, shape_property))"
   ]
  },
  {
   "cell_type": "markdown",
   "metadata": {},
   "source": [
    "Get some dataframes"
   ]
  },
  {
   "cell_type": "code",
   "execution_count": null,
   "metadata": {},
   "outputs": [],
   "source": [
    "df_base_dsm = get_dataframe(base_dsm)\n",
    "df_base_dtm = get_dataframe(base_dtm)\n",
    "df_base_chm = get_chm_df(df_base_dsm, df_base_dtm)\n",
    "\n",
    "df_property_dsm = get_dataframe(property_dsm)\n",
    "df_property_dtm = get_dataframe(property_dtm)\n",
    "df_property_chm = get_chm_df(df_property_dsm, df_property_dtm)"
   ]
  },
  {
   "cell_type": "code",
   "execution_count": null,
   "metadata": {},
   "outputs": [],
   "source": [
    "df_base_dsm.describe()"
   ]
  },
  {
   "cell_type": "code",
   "execution_count": null,
   "metadata": {},
   "outputs": [],
   "source": [
    "df_base_dsm"
   ]
  },
  {
   "cell_type": "markdown",
   "metadata": {},
   "source": [
    "## Convert the datasets to 3D"
   ]
  },
  {
   "cell_type": "markdown",
   "metadata": {},
   "source": [
    "fig = plt.figure()\n",
    "ax = fig.add_subplot(111, projection='3d')\n",
    "\n",
    "X = df_property_dsm['x']\n",
    "Y = df_property_dsm['y']\n",
    "Z = df_property_dsm['z']\n",
    "\n",
    "ax.scatter(X, Y, Z, c='r', marker='o')\n",
    "\n",
    "ax.set_xlabel('x axis')\n",
    "ax.set_ylabel('y axis')\n",
    "ax.set_zlabel('z axis')\n",
    "\n",
    "plt.show()"
   ]
  },
  {
   "cell_type": "markdown",
   "metadata": {},
   "source": [
    "### Points cloud"
   ]
  },
  {
   "cell_type": "markdown",
   "metadata": {},
   "source": [
    "##### DSM"
   ]
  },
  {
   "cell_type": "code",
   "execution_count": null,
   "metadata": {},
   "outputs": [],
   "source": [
    "show_pcd(df_base_dsm)"
   ]
  },
  {
   "cell_type": "code",
   "execution_count": null,
   "metadata": {},
   "outputs": [],
   "source": [
    "show_pcd(df_property_dsm)"
   ]
  },
  {
   "cell_type": "markdown",
   "metadata": {},
   "source": [
    "##### DTM"
   ]
  },
  {
   "cell_type": "code",
   "execution_count": null,
   "metadata": {},
   "outputs": [],
   "source": [
    "show_pcd(df_base_dtm)"
   ]
  },
  {
   "cell_type": "code",
   "execution_count": null,
   "metadata": {},
   "outputs": [],
   "source": [
    "show_pcd(df_property_dtm)"
   ]
  },
  {
   "cell_type": "markdown",
   "metadata": {},
   "source": [
    "##### CHM"
   ]
  },
  {
   "cell_type": "code",
   "execution_count": null,
   "metadata": {},
   "outputs": [],
   "source": [
    "show_pcd(df_base_chm)"
   ]
  },
  {
   "cell_type": "code",
   "execution_count": null,
   "metadata": {},
   "outputs": [],
   "source": [
    "show_pcd(df_property_chm)"
   ]
  },
  {
   "cell_type": "markdown",
   "metadata": {},
   "source": [
    "### 3D"
   ]
  },
  {
   "cell_type": "raw",
   "metadata": {},
   "source": [
    "Reconstruction using Poisson"
   ]
  },
  {
   "cell_type": "code",
   "execution_count": null,
   "metadata": {},
   "outputs": [],
   "source": [
    "show_poisson(df_base_dsm)"
   ]
  },
  {
   "cell_type": "code",
   "execution_count": null,
   "metadata": {},
   "outputs": [],
   "source": [
    "show_poisson(df_property_dsm)"
   ]
  },
  {
   "cell_type": "code",
   "execution_count": null,
   "metadata": {},
   "outputs": [],
   "source": [
    "show_poisson(df_base_chm)"
   ]
  },
  {
   "cell_type": "code",
   "execution_count": null,
   "metadata": {},
   "outputs": [],
   "source": [
    "show_poisson(df_property_chm)"
   ]
  }
 ],
 "metadata": {
  "kernelspec": {
   "display_name": "Python 3",
   "language": "python",
   "name": "python3"
  },
  "language_info": {
   "codemirror_mode": {
    "name": "ipython",
    "version": 3
   },
   "file_extension": ".py",
   "mimetype": "text/x-python",
   "name": "python",
   "nbconvert_exporter": "python",
   "pygments_lexer": "ipython3",
   "version": "3.8.6"
  }
 },
 "nbformat": 4,
 "nbformat_minor": 4
}
